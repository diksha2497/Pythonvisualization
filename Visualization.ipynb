{
 "cells": [
  {
   "cell_type": "code",
   "execution_count": 49,
   "metadata": {},
   "outputs": [],
   "source": [
    "#1. Histogram\n",
    "#2. Bar Chart\n",
    "#3. Box Plot\n",
    "#4. Pie Chart\n",
    "#5. Scatter Plot\n"
   ]
  },
  {
   "cell_type": "code",
   "execution_count": 50,
   "metadata": {},
   "outputs": [],
   "source": [
    "import pandas as pd\n",
    "import matplotlib.pyplot as plt"
   ]
  },
  {
   "cell_type": "code",
   "execution_count": 51,
   "metadata": {},
   "outputs": [],
   "source": [
    "data = [['1', 'M', 34, 123, 'Normal', 350], \n",
    "        ['2', 'F', 40, 114, 'Overweight', 450], \n",
    "        ['3', 'F', 37, 135, 'Obesity', 169], \n",
    "        ['4', 'M', 30, 139, 'Underweight', 189], \n",
    "        ['5', 'F', 44, 117, 'Underweight', 183], \n",
    "        ['6', 'M', 36, 121, 'Normal', 80], \n",
    "        ['7', 'M', 32, 133, 'Obesity', 166], \n",
    "        ['8', 'F', 26, 140, 'Normal', 120], \n",
    "        ['9', 'M', 32, 133, 'Normal', 75], \n",
    "        ['10', 'M', 36, 133, 'Underweight', 40] ] "
   ]
  },
  {
   "cell_type": "code",
   "execution_count": 52,
   "metadata": {},
   "outputs": [],
   "source": [
    "df=pd.DataFrame(data, columns=['number','gender','age','income','status','sales'])"
   ]
  },
  {
   "cell_type": "code",
   "execution_count": 53,
   "metadata": {},
   "outputs": [
    {
     "data": {
      "text/html": [
       "<div>\n",
       "<style scoped>\n",
       "    .dataframe tbody tr th:only-of-type {\n",
       "        vertical-align: middle;\n",
       "    }\n",
       "\n",
       "    .dataframe tbody tr th {\n",
       "        vertical-align: top;\n",
       "    }\n",
       "\n",
       "    .dataframe thead th {\n",
       "        text-align: right;\n",
       "    }\n",
       "</style>\n",
       "<table border=\"1\" class=\"dataframe\">\n",
       "  <thead>\n",
       "    <tr style=\"text-align: right;\">\n",
       "      <th></th>\n",
       "      <th>number</th>\n",
       "      <th>gender</th>\n",
       "      <th>age</th>\n",
       "      <th>income</th>\n",
       "      <th>status</th>\n",
       "      <th>sales</th>\n",
       "    </tr>\n",
       "  </thead>\n",
       "  <tbody>\n",
       "    <tr>\n",
       "      <th>0</th>\n",
       "      <td>1</td>\n",
       "      <td>M</td>\n",
       "      <td>34</td>\n",
       "      <td>123</td>\n",
       "      <td>Normal</td>\n",
       "      <td>350</td>\n",
       "    </tr>\n",
       "    <tr>\n",
       "      <th>1</th>\n",
       "      <td>2</td>\n",
       "      <td>F</td>\n",
       "      <td>40</td>\n",
       "      <td>114</td>\n",
       "      <td>Overweight</td>\n",
       "      <td>450</td>\n",
       "    </tr>\n",
       "    <tr>\n",
       "      <th>2</th>\n",
       "      <td>3</td>\n",
       "      <td>F</td>\n",
       "      <td>37</td>\n",
       "      <td>135</td>\n",
       "      <td>Obesity</td>\n",
       "      <td>169</td>\n",
       "    </tr>\n",
       "    <tr>\n",
       "      <th>3</th>\n",
       "      <td>4</td>\n",
       "      <td>M</td>\n",
       "      <td>30</td>\n",
       "      <td>139</td>\n",
       "      <td>Underweight</td>\n",
       "      <td>189</td>\n",
       "    </tr>\n",
       "    <tr>\n",
       "      <th>4</th>\n",
       "      <td>5</td>\n",
       "      <td>F</td>\n",
       "      <td>44</td>\n",
       "      <td>117</td>\n",
       "      <td>Underweight</td>\n",
       "      <td>183</td>\n",
       "    </tr>\n",
       "  </tbody>\n",
       "</table>\n",
       "</div>"
      ],
      "text/plain": [
       "  number gender  age  income       status  sales\n",
       "0      1      M   34     123       Normal    350\n",
       "1      2      F   40     114   Overweight    450\n",
       "2      3      F   37     135      Obesity    169\n",
       "3      4      M   30     139  Underweight    189\n",
       "4      5      F   44     117  Underweight    183"
      ]
     },
     "execution_count": 53,
     "metadata": {},
     "output_type": "execute_result"
    }
   ],
   "source": [
    "df.head()"
   ]
  },
  {
   "cell_type": "code",
   "execution_count": 54,
   "metadata": {},
   "outputs": [
    {
     "data": {
      "image/png": "[encoded data removed]",
      "text/plain": [
       "<Figure size 432x288 with 4 Axes>"
      ]
     },
     "metadata": {
      "needs_background": "light"
     },
     "output_type": "display_data"
    }
   ],
   "source": [
    "#Histogram\n",
    "df.hist()\n",
    "plt.show()"
   ]
  },
  {
   "cell_type": "code",
   "execution_count": 55,
   "metadata": {},
   "outputs": [
    {
     "data": {
      "text/plain": [
       "<matplotlib.axes._subplots.AxesSubplot at 0x21964c52828>"
      ]
     },
     "execution_count": 55,
     "metadata": {},
     "output_type": "execute_result"
    },
    {
     "data": {
      "image/png": "[encoded data removed]",
      "text/plain": [
       "<Figure size 432x288 with 1 Axes>"
      ]
     },
     "metadata": {
      "needs_background": "light"
     },
     "output_type": "display_data"
    }
   ],
   "source": [
    "#automatic bar chart\n",
    "df.plot.bar()"
   ]
  },
  {
   "cell_type": "code",
   "execution_count": 56,
   "metadata": {},
   "outputs": [
    {
     "data": {
      "text/plain": [
       "Text(0, 0.5, 'Sales')"
      ]
     },
     "execution_count": 56,
     "metadata": {},
     "output_type": "execute_result"
    },
    {
     "data": {
      "image/png": "[encoded data removed]",
      "text/plain": [
       "<Figure size 432x288 with 1 Axes>"
      ]
     },
     "metadata": {
      "needs_background": "light"
     },
     "output_type": "display_data"
    }
   ],
   "source": [
    "#Customized Bar Chart\n",
    "plt.bar(df['age'],df['sales'])\n",
    "plt.xlabel('Age')\n",
    "plt.ylabel('Sales')"
   ]
  },
  {
   "cell_type": "code",
   "execution_count": 57,
   "metadata": {},
   "outputs": [
    {
     "data": {
      "text/plain": [
       "<matplotlib.axes._subplots.AxesSubplot at 0x21964d7e518>"
      ]
     },
     "execution_count": 57,
     "metadata": {},
     "output_type": "execute_result"
    },
    {
     "data": {
      "image/png": "[encoded data removed]",
      "text/plain": [
       "<Figure size 432x288 with 1 Axes>"
      ]
     },
     "metadata": {
      "needs_background": "light"
     },
     "output_type": "display_data"
    }
   ],
   "source": [
    "#Automatic Box Plot\n",
    "df.plot.box()"
   ]
  },
  {
   "cell_type": "code",
   "execution_count": 58,
   "metadata": {},
   "outputs": [
    {
     "data": {
      "text/plain": [
       "{'whiskers': [<matplotlib.lines.Line2D at 0x21964c0ea58>,\n",
       "  <matplotlib.lines.Line2D at 0x21964c0e828>],\n",
       " 'caps': [<matplotlib.lines.Line2D at 0x21964c0e588>,\n",
       "  <matplotlib.lines.Line2D at 0x21964c0e4a8>],\n",
       " 'boxes': [<matplotlib.lines.Line2D at 0x21964c0e518>],\n",
       " 'medians': [<matplotlib.lines.Line2D at 0x21964c522b0>],\n",
       " 'fliers': [<matplotlib.lines.Line2D at 0x21964c08eb8>],\n",
       " 'means': []}"
      ]
     },
     "execution_count": 58,
     "metadata": {},
     "output_type": "execute_result"
    },
    {
     "data": {
      "image/png": "[encoded data removed]",
      "text/plain": [
       "<Figure size 432x288 with 1 Axes>"
      ]
     },
     "metadata": {
      "needs_background": "light"
     },
     "output_type": "display_data"
    }
   ],
   "source": [
    "#Customized Box Plot\n",
    "plt.boxplot(df['sales'])"
   ]
  },
  {
   "cell_type": "code",
   "execution_count": 59,
   "metadata": {},
   "outputs": [
    {
     "data": {
      "text/plain": [
       "([<matplotlib.patches.Wedge at 0x21964b6f400>,\n",
       "  <matplotlib.patches.Wedge at 0x21964be13c8>,\n",
       "  <matplotlib.patches.Wedge at 0x21964beab38>,\n",
       "  <matplotlib.patches.Wedge at 0x21964bea940>,\n",
       "  <matplotlib.patches.Wedge at 0x21964c1ff60>,\n",
       "  <matplotlib.patches.Wedge at 0x21964bf7d68>,\n",
       "  <matplotlib.patches.Wedge at 0x21964bf76d8>,\n",
       "  <matplotlib.patches.Wedge at 0x21964c348d0>,\n",
       "  <matplotlib.patches.Wedge at 0x21964c3d4a8>,\n",
       "  <matplotlib.patches.Wedge at 0x21964afa7b8>],\n",
       " [Text(1.0482953782765752, 0.333281862518758, 'A'),\n",
       "  Text(0.6147451821569723, 0.912188774878748, 'B'),\n",
       "  Text(-0.11432099751478246, 1.0940432850336523, 'C'),\n",
       "  Text(-0.71760600255897, 0.8336915647236307, 'D'),\n",
       "  Text(-1.0801786334398653, 0.20788006123720834, 'E'),\n",
       "  Text(-0.9467655530624102, -0.5600312379987645, 'F'),\n",
       "  Text(-0.449532204696515, -1.0039525869983557, 'G'),\n",
       "  Text(0.11432094629891955, -1.0940432903854032, 'H'),\n",
       "  Text(0.6473691646434071, -0.889332988631872, 'I'),\n",
       "  Text(1.042089057268137, -0.352207888500536, 'J')],\n",
       " [Text(0.57179747905995, 0.18179010682841343, '9.8%'),\n",
       "  Text(0.335315553903803, 0.49755751357022615, '11.5%'),\n",
       "  Text(-0.06235690773533588, 0.5967508827456285, '10.7%'),\n",
       "  Text(-0.3914214559412563, 0.4547408534856167, '8.6%'),\n",
       "  Text(-0.5891883455126538, 0.11338912431120454, '12.7%'),\n",
       "  Text(-0.5164175743976782, -0.3054715843629624, '10.4%'),\n",
       "  Text(-0.24519938437991726, -0.547610501999103, '9.2%'),\n",
       "  Text(0.06235687979941065, -0.5967508856647653, '7.5%'),\n",
       "  Text(0.3531104534418584, -0.48509072107193013, '9.2%'),\n",
       "  Text(0.5684122130553473, -0.19211339372756508, '10.4%')])"
      ]
     },
     "execution_count": 59,
     "metadata": {},
     "output_type": "execute_result"
    },
    {
     "data": {
      "image/png": "[encoded data removed]",
      "text/plain": [
       "<Figure size 432x288 with 1 Axes>"
      ]
     },
     "metadata": {},
     "output_type": "display_data"
    }
   ],
   "source": [
    "#Pie Chart\n",
    "plt.pie(df['age'],labels=['A','B','C','D','E','F','G','H','I','J'],\n",
    "autopct=\"%1.1f%%\", shadow=True)"
   ]
  },
  {
   "cell_type": "code",
   "execution_count": 63,
   "metadata": {},
   "outputs": [
    {
     "data": {
      "text/plain": [
       "<matplotlib.collections.PathCollection at 0x21963021b38>"
      ]
     },
     "execution_count": 63,
     "metadata": {},
     "output_type": "execute_result"
    },
    {
     "data": {
      "image/png": "[encoded data removed]",
      "text/plain": [
       "<Figure size 432x288 with 1 Axes>"
      ]
     },
     "metadata": {
      "needs_background": "light"
     },
     "output_type": "display_data"
    }
   ],
   "source": [
    "#Scatter Plot\n",
    "plt.scatter(df['age'],df['sales'])\n"
   ]
  },
  {
   "cell_type": "code",
   "execution_count": 64,
   "metadata": {},
   "outputs": [
    {
     "data": {
      "text/plain": [
       "<matplotlib.collections.PathCollection at 0x21964b9e3c8>"
      ]
     },
     "execution_count": 64,
     "metadata": {},
     "output_type": "execute_result"
    },
    {
     "data": {
      "image/png": "[encoded data removed]",
      "text/plain": [
       "<Figure size 432x288 with 1 Axes>"
      ]
     },
     "metadata": {
      "needs_background": "light"
     },
     "output_type": "display_data"
    }
   ],
   "source": [
    "plt.scatter(df['age'],df['income'])"
   ]
  },
  {
   "cell_type": "code",
   "execution_count": 66,
   "metadata": {},
   "outputs": [
    {
     "data": {
      "text/plain": [
       "<matplotlib.collections.PathCollection at 0x21965dec048>"
      ]
     },
     "execution_count": 66,
     "metadata": {},
     "output_type": "execute_result"
    },
    {
     "data": {
      "image/png": "[encoded data removed]",
      "text/plain": [
       "<Figure size 432x288 with 1 Axes>"
      ]
     },
     "metadata": {
      "needs_background": "light"
     },
     "output_type": "display_data"
    }
   ],
   "source": [
    "plt.scatter(df['age'],df['sales'])\n",
    "plt.scatter(df['age'],df['income'])"
   ]
  },
  {
   "cell_type": "code",
   "execution_count": null,
   "metadata": {},
   "outputs": [],
   "source": []
  }
 ],
 "metadata": {
  "kernelspec": {
   "display_name": "Python 3",
   "language": "python",
   "name": "python3"
  },
  "language_info": {
   "codemirror_mode": {
    "name": "ipython",
    "version": 3
   },
   "file_extension": ".py",
   "mimetype": "text/x-python",
   "name": "python",
   "nbconvert_exporter": "python",
   "pygments_lexer": "ipython3",
   "version": "3.7.1"
  }
 },
 "nbformat": 4,
 "nbformat_minor": 2
}
